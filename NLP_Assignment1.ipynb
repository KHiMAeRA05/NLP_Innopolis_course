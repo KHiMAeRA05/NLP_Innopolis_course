{
  "cells": [
    {
      "cell_type": "markdown",
      "metadata": {
        "id": "RKboZnAdgrRM"
      },
      "source": [
        "# [NLP] Assignment 1: Tokenization\n",
        "\n",
        "In this assignment , you need to tokenize the text of the Twitter(X) users posts(tweets). The assignment consists of two tasks. When you finish all the tasks , create a GitHub repository for this assignment (you can use this repo later for the other assignments) and submit this notebook in the repository. Leave `requirements.txt` file if your code requires additional installations. Submit the link to the repository in Moodle.\n",
        "\n",
        "The [data](https://drive.google.com/file/d/15x_wPAflvYQ2Xh38iNQGrqUIWLj5l5Nw/view?usp=share_link) contains 5 files whereby each contains 44 tweets. Each tweet is separated by a newline."
      ]
    },
    {
      "cell_type": "code",
      "source": [
        "import requests\n",
        "import zipfile\n",
        "import io\n",
        "import os\n",
        "\n",
        "def download_and_extract_zip(url , destination_folder):\n",
        "    os.makedirs(destination_folder , exist_ok=True)\n",
        "\n",
        "    # Download the zip file\n",
        "    response = requests.get(url)\n",
        "\n",
        "    if response.status_code == 200:\n",
        "        # Unzip the content\n",
        "        with zipfile.ZipFile(io.BytesIO(response.content)) as zip_file:\n",
        "            zip_file.extractall(destination_folder)\n",
        "        print(f\"Successfully downloaded and extracted to {destination_folder}\")\n",
        "    else:\n",
        "        print(f\"Failed to download the file. Status code: {response.status_code}\")\n",
        "\n",
        "zip_url = \"https://drive.usercontent.google.com/u/0/uc?id=15x_wPAflvYQ2Xh38iNQGrqUIWLj5l5Nw&export=download\"\n",
        "destination_folder = \"/content/\"\n",
        "\n",
        "download_and_extract_zip(zip_url , destination_folder)\n"
      ],
      "metadata": {
        "colab": {
          "base_uri": "https://localhost:8080/"
        },
        "id": "-USUloA1rOgj",
        "outputId": "0c2c0a77-00fc-4230-9792-f81c615caec2"
      },
      "execution_count": 309,
      "outputs": [
        {
          "output_type": "stream",
          "name": "stdout",
          "text": [
            "Successfully downloaded and extracted to /content/\n"
          ]
        }
      ]
    },
    {
      "cell_type": "markdown",
      "metadata": {
        "id": "aLDjjAvemUP_"
      },
      "source": [
        "## Task 1. Tokenize some tweets manually (20 points)\n",
        "\n",
        "As a first task you need to tokenize first 15 tweets from `file2` by hand. This will allow you to understand the problem from a linguistic point of view. The guidelines for tweet tokenization are as follows:\n",
        "\n",
        "- Each smiley is a separate token\n",
        "- Each hashtag is an individual token. Each user reference is an individual token\n",
        "- If a word has spaces between them then it is converted to a single token\n",
        "- All punctuations are individual tokens. This includes double-quotes and single quotes also\n",
        "- A URL is a single token\n",
        "\n",
        "Example of output\n",
        "\n",
        "    Input tweet\n",
        "    @xfranman Old age has made N A T O!\n",
        "\n",
        "    Tokenized tweet (separated by comma)\n",
        "    @xfranman  , Old  , age  , has  , made  , NATO  , !"
      ]
    },
    {
      "cell_type": "markdown",
      "metadata": {
        "id": "7KKKwTidnzUw"
      },
      "source": [
        "\n",
        "    1. Input tweet\n",
        "    Camping in Maine for the weekend. Hey Dad , Mama Loves YOU: http://www.mamapalooza.com\n",
        "\n",
        "    1. Tokenized tweet\n",
        "    Camping , in , Maine , for , the , weekend , . , Hey , Dad , , , Mama , Loves , YOU , : , http://www.mamapalooza.com\n",
        "\n",
        "    2. Input tweet\n",
        "    Its american tradition bitch\n",
        "\n",
        "    2. Tokenized tweet\n",
        "    Its , american , tradition , bitch\n",
        "\n",
        "    3. Input tweet\n",
        "    @ThroughTheVoid They love it! The only pleasure they get in life. I actually do that. I'm sure I hear a tiny squeak... Then louder ones\n",
        "\n",
        "    3. Tokenized tweet\n",
        "    @ThroughTheVoid , They , love , it , ! , The , only , pleasure , they , get , in , life , . , I , actually , do , that , . , I'm , sure , I , hear , a , tiny , squeak , ... , Then , louder , ones\n",
        "\n",
        "    4. Input tweet\n",
        "    \" RT @latti: @AbsoHilare stop tweeting in church! Lol <--- \"\"I tweet because I'm happy , I tweet because I'm free\"\" LOL!\"\n",
        "\n",
        "    4. Tokenized tweet\n",
        "    \" , RT , @latti , : , @AbsoHilare , stop , tweeting , in , church , ! , Lol , <--- , \"\" , I , tweet , because , I'm , happy , , , I , tweet , because , I'm , free , \"\" , LOL , ! , \"\n",
        "\n",
        "    5. Input tweet\n",
        "    Samsung Mini S2 portable HDD graced with colors that perfectly match your tacky beach gear: Sammy's done it aga.. http://tinyurl.com/lb5p6m\n",
        "\n",
        "    5. Tokenized tweet\n",
        "    Samsung , Mini , S2 , portable , HDD , graced , with , colors , that , perfectly , match , your , tacky , beach , gear , : , Sammy's , done , it , aga , .. , http://tinyurl.com/lb5p6m\n",
        "    \n",
        "    6. Input tweet\n",
        "    @dialloc congrats on finding your way over. it may be slow going at first. hang in there. it's kinda cool when u get up to speed.\n",
        "\n",
        "    6. Tokenized tweet\n",
        "    @dialloc , congrats , on , finding , your , way , over , . , it , may , be , slow , going , at , first , . , hang , in , there , . , it's , kinda , cool , when , u , get , up , to , speed , .\n",
        "    \n",
        "    7. Input tweet\n",
        "    iPhone activation delays continue , Apple offers $30 http://twt.gs/l3Ki\n",
        "\n",
        "    7. Tokenized tweet\n",
        "    iPhone , activation , delays , continue , , , Apple , offers , $30 , http://twt.gs/l3Ki\n",
        "    \n",
        "    8. Input tweet\n",
        "    RT @GoogleAtWork Gmail maximum attachment size now 25MB http://bit.ly/62mjw Nice!!!\n",
        "\n",
        "    8. Tokenized tweet\n",
        "    RT , @GoogleAtWork , Gmail , maximum , attachment , size , now , 25MB , http://bit.ly/62mjw , Nice , !!!\n",
        "    \n",
        "    9. Input tweet\n",
        "    RT @acfou The Ads Won Awards for Crispin; But Did Nothing for Client BurgerKing's Sales/Marketshare - Big Surprise - http://ping.fm/vw8TI\n",
        "\n",
        "    9. Tokenized tweet\n",
        "    RT , @acfou , The , Ads , Won , Awards , for , Crispin , ; , But , Did , Nothing , for , Client , BurgerKing's , Sales/Marketshare , - , Big , Surprise , - , http://ping.fm/vw8TI\n",
        "\n",
        "    10. Input tweet\n",
        "    Hey doll! Great I missed True Blood yday boo lol Rt @FrankBanuat78 @jhillstephens Hello Sunshine how are u today? :-)\n",
        "\n",
        "    10. Tokenized tweet\n",
        "    Hey , doll , ! , Great , I , missed , True , Blood , yday , boo , lol , Rt , @FrankBanuat78 , @jhillstephens , Hello , Sunshine , how , are , u , today , ? , :-)\n",
        "\n",
        "    11. Input tweet\n",
        "    Australian artist Pogo made these free songs primarily from sampled audio from Alice In Wonderland. http://www.last.fm/music/Pogo/Wonderland\n",
        "\n",
        "    11. Tokenized tweet\n",
        "    Australian , artist , Pogo , made , these , free , songs , primarily , from , sampled , audio , from , Alice , In , Wonderland , . , http://www.last.fm/music/Pogo/Wonderland\n",
        "\n",
        "    12. Input tweet\n",
        "    @mppritchard they wanted to sell all the preorders & then sell all of the ones they had in stock to those that just walked in. Can't do both\n",
        "\n",
        "    12. Tokenized tweet\n",
        "    @mppritchard , they , wanted , to , sell , all , the , preorders , & , then , sell , all , of , the , ones , they , had , in , stock , to , those , that , just , walked , in , . , Can't , do , both\n",
        "\n",
        "    13. Input tweet\n",
        "    Incoming: Frightened Rabbit , Sept. 22 (Tucson): If Fat Cat Records is going to send three great bands from Scot.. http://tinyurl.com/nz6xcv\n",
        "\n",
        "    13. Tokenized tweet\n",
        "    Incoming , : , Frightened , Rabbit , , , Sept. , 22 , ( , Tucson , ) , : , If , Fat , Cat , Records , is , going , to , send , three , great , bands , from , Scot , .. , http://tinyurl.com/nz6xcv\n",
        "\n",
        "    14. Input tweet\n",
        "    Hey @ginoandfran please greet philip! (GinoandFran live > http://ustre.am/2YyQ)\n",
        "\n",
        "    14. Tokenized tweet\n",
        "    Hey , @ginoandfran , please , greet , philip , ! , ( , GinoandFran , live , > , http://ustre.am/2YyQ , )\n",
        "    \n",
        "    15. Input tweet\n",
        "    Ik weet niet wie er achter de T-Mobile iPhone Twitter zit maar ik vind het niet echt 'corporate' taalgebruik... Best vreemd eigenlijk\n",
        "\n",
        "    15. Tokenized tweet\n",
        "    Ik , weet , niet , wie , er , achter , de , T-Mobile , iPhone , Twitter , zit , maar , ik , vind , het , niet , echt , 'corporate' , taalgebruik , ... , Best , vreemd , eigenlijk"
      ]
    },
    {
      "cell_type": "markdown",
      "metadata": {
        "id": "-2J2AD2nmUhi"
      },
      "source": [
        "## Task 2. Implement [Byte-Pair Encoding(BPE)](https://arxiv.org/pdf/1508.07909.pdf) Tokenizer (80 points)\n",
        "\n",
        "### Task 2.1. Implementation (60 points)\n",
        "\n",
        "Implement the tokenizer as the BPETokenizer class:\n",
        "* Implement `train` method that learns merges and builds the vocabulary of the specified `vocab_size` (25 points).\n",
        "* Implement `tokenize` method that should tokenize the text according to the learnt merges (25 points).\n",
        "\n",
        "* Your code should have docstrings and comments (10 points)."
      ]
    },
    {
      "cell_type": "code",
      "execution_count": 291,
      "metadata": {
        "id": "4ChjiPtqq_v0"
      },
      "outputs": [],
      "source": [
        "from typing import List\n",
        "from collections import defaultdict\n",
        "import re\n",
        "\n",
        "class BPETokenizer:\n",
        "    \"\"\"\n",
        "    Byte Pair Encoding (BPE) Tokenizer class.\n",
        "    \"\"\"\n",
        "\n",
        "    def __init__(self, vocab_size: int) -> None:\n",
        "        \"\"\"\n",
        "        Initializes the BPE Tokenizer with a specified vocabulary size.\n",
        "        \"\"\"\n",
        "        self.vocab_size = vocab_size\n",
        "        self.vocab = [\"</w>\"]  # Initialize with end-of-word token\n",
        "        self.word_freqs = defaultdict(int)  # Frequency of words in corpus\n",
        "        self.splits = defaultdict(int)  # Dictionary to store splits of words\n",
        "        self.merges = defaultdict(int)  # Dictionary to store merged pairs\n",
        "\n",
        "    def train(self, corpus: List[str]) -> None:\n",
        "        \"\"\"\n",
        "        Trains the BPE Tokenizer on the given corpus to build the vocabulary.\n",
        "        \"\"\"\n",
        "        # Step 1: Build word frequencies\n",
        "        self._build_word_frequencies(corpus)\n",
        "\n",
        "        # Step 2: Build initial vocabulary\n",
        "        self._build_initial_vocab()\n",
        "\n",
        "        # Step 3: Merge pairs until vocabulary size is reached\n",
        "        while len(self.vocab) < self.vocab_size:\n",
        "            frequencies = self._calculate_pair_frequencies()\n",
        "            most_frequent_pair = max(frequencies, key=frequencies.get)\n",
        "            self._merge_and_update_vocab(most_frequent_pair)\n",
        "\n",
        "    def _pretokenize_text(self, text: str) -> str:\n",
        "        \"\"\"\n",
        "        Pre-tokenizes text by separating punctuation characters into separate words.\n",
        "        \"\"\"\n",
        "        # Define punctuation characters\n",
        "        punctuation = r'[.,!?;:]'\n",
        "\n",
        "        # Split text using punctuation as delimiters\n",
        "        pre_tokenized_text = re.sub(punctuation, r' \\g<0> ', text)\n",
        "\n",
        "        return pre_tokenized_text\n",
        "\n",
        "    def _build_word_frequencies(self, corpus: List[str]) -> None:\n",
        "        \"\"\"\n",
        "        Builds word frequencies from the given corpus.\n",
        "        \"\"\"\n",
        "        for text in corpus:\n",
        "            words = self._pretokenize_text(text).split()\n",
        "            for word in words:\n",
        "                self.word_freqs[word] += 1\n",
        "\n",
        "    def _build_initial_vocab(self) -> None:\n",
        "        \"\"\"\n",
        "        Builds the initial vocabulary based on the word frequencies.\n",
        "        \"\"\"\n",
        "        for word in self.word_freqs.keys():\n",
        "            for letter in word:\n",
        "                if letter not in self.vocab:\n",
        "                    self.vocab.append(letter)\n",
        "        self.splits = {word: [c for c in word] for word in self.word_freqs.keys()}\n",
        "\n",
        "    def _calculate_pair_frequencies(self) -> defaultdict:\n",
        "        \"\"\"\n",
        "        Calculates frequencies of character pairs in the current vocabulary.\n",
        "        \"\"\"\n",
        "        frequencies = defaultdict(int)\n",
        "        for word, freq in self.word_freqs.items():\n",
        "            chars = self.splits[word]\n",
        "            for i in range(len(chars) - 1):\n",
        "                frequencies[(chars[i], chars[i+1])] += freq\n",
        "        return frequencies\n",
        "\n",
        "    def _merge_and_update_vocab(self, pair) -> None:\n",
        "        \"\"\"\n",
        "        Merges the most frequent pair and updates the vocabulary accordingly.\n",
        "        \"\"\"\n",
        "        merged_pair = pair[0] + pair[1]\n",
        "        for word, chars in self.splits.items():\n",
        "            i = 0\n",
        "            while i < len(chars) - 1:\n",
        "                if chars[i:i+2] == [pair[0], pair[1]]:\n",
        "                    chars[i:i+2] = [merged_pair]\n",
        "                i += 1\n",
        "            self.splits[word] = chars\n",
        "        self.merges[pair] = merged_pair\n",
        "        self.vocab.append(merged_pair)\n",
        "\n",
        "    def tokenize(self, text: str) -> List[str]:\n",
        "        \"\"\"\n",
        "        Tokenizes the input text using the learned vocabulary.\n",
        "        \"\"\"\n",
        "        tokens = []\n",
        "        words = self._pretokenize_text(text).split()\n",
        "        for word in words:\n",
        "            tokenized_word = self.tokenize_word(word)\n",
        "            tokens.extend(tokenized_word)\n",
        "        return tokens\n",
        "\n",
        "    def tokenize_word(self, word: str) -> List[str]:\n",
        "        \"\"\"\n",
        "        Tokenizes a single word into subwords using the learned vocabulary.\n",
        "        \"\"\"\n",
        "        tokens = []\n",
        "        chars = [char for char in word]\n",
        "        i = 0\n",
        "        while i < len(chars):\n",
        "            longest_subword = chars[i]\n",
        "            for j in range(i + 1, len(chars) + 1):\n",
        "                subword = ''.join(chars[i:j])\n",
        "                if subword in self.vocab:\n",
        "                    longest_subword = subword\n",
        "            tokens.append(longest_subword)\n",
        "            i += len(longest_subword)\n",
        "        return tokens"
      ]
    },
    {
      "cell_type": "markdown",
      "metadata": {
        "id": "Mt_FFstWq_v2"
      },
      "source": [
        "### Task 2.2. Analysis on Tweets Dataset (10 points)\n",
        "\n",
        "Train the BPE tokenizer on the tweets dataset. Try to tokenize the tweets with the tokenizer of different `vocab_size`. For example , train the BPE tokenizer with `vocab_size` of [base_vocab_size , 250 , 500 , 750 , 1000]. Plot the dependency of the average length of the tokenized tweet by `vocab_size` to analyze how `vocab_size` affects the length of the tokenized tweet on average. Tell what `vocab_size` is preferrable and why."
      ]
    },
    {
      "cell_type": "code",
      "execution_count": 298,
      "metadata": {
        "id": "AUUGL4Ulq_v3"
      },
      "outputs": [],
      "source": [
        "# Step 1: Load the tweets [corpus]\n",
        "\n",
        "f1 = open(\"file1\", \"r\").readlines()\n",
        "f2 = open(\"file2\", \"r\").readlines()\n",
        "f3 = open(\"file3\", \"r\").readlines()\n",
        "f4 = open(\"file4\", \"r\").readlines()\n",
        "f5 = open(\"file4\", \"r\").readlines()\n",
        "\n",
        "corpus = f1+f2+f3+f4+f5"
      ]
    },
    {
      "cell_type": "code",
      "source": [
        "corpus[1]"
      ],
      "metadata": {
        "colab": {
          "base_uri": "https://localhost:8080/",
          "height": 35
        },
        "id": "S6CxyeElk4FS",
        "outputId": "e634308d-89ce-4b63-ea10-09b67ba7f3e9"
      },
      "execution_count": 299,
      "outputs": [
        {
          "output_type": "execute_result",
          "data": {
            "text/plain": [
              "'\" Could journos please stop putting the word \"\"gate\"\" after everything they write... gate.\"\\n'"
            ],
            "application/vnd.google.colaboratory.intrinsic+json": {
              "type": "string"
            }
          },
          "metadata": {},
          "execution_count": 299
        }
      ]
    },
    {
      "cell_type": "code",
      "source": [
        "import matplotlib.pyplot as plt\n",
        "import pandas as pd\n",
        "from tqdm import tqdm\n",
        "\n",
        "# Step 2: Define vocab_size values\n",
        "vocab_sizes = [100, 250, 500, 750, 1000]\n",
        "\n",
        "# Step 3-6: Train the tokenizer with different vocab_size and analyze the tokenized tweets\n",
        "avg_lengths = []\n",
        "\n",
        "for vocab_size in vocab_sizes:\n",
        "    tokenizer = BPETokenizer(vocab_size)\n",
        "    tokenizer.train(corpus)  # Train the tokenizer on tweet texts\n",
        "\n",
        "    # Tokenize tweets and calculate average length\n",
        "    avg_length = sum(len(tokenizer.tokenize(tweet)) for tweet in tqdm(corpus)) / len(corpus)\n",
        "    avg_lengths.append(avg_length)\n",
        "\n",
        "# Step 7: Plot the dependency of the average length of the tokenized tweet by vocab_size\n",
        "plt.plot(vocab_sizes, avg_lengths, marker='o')\n",
        "plt.title('Average Length of Tokenized Tweets vs Vocab Size')\n",
        "plt.xlabel('Vocab Size')\n",
        "plt.ylabel('Average Length of Tokenized Tweets')\n",
        "plt.grid(True)\n",
        "plt.show()\n"
      ],
      "metadata": {
        "colab": {
          "base_uri": "https://localhost:8080/",
          "height": 559
        },
        "id": "HYoTycCHkVBf",
        "outputId": "9669f231-176c-4f94-96ea-5632e733b03a"
      },
      "execution_count": 300,
      "outputs": [
        {
          "output_type": "stream",
          "name": "stderr",
          "text": [
            "100%|██████████| 220/220 [00:00<00:00, 1342.23it/s]\n",
            "100%|██████████| 220/220 [00:00<00:00, 613.24it/s]\n",
            "100%|██████████| 220/220 [00:00<00:00, 795.45it/s]\n",
            "100%|██████████| 220/220 [00:00<00:00, 617.62it/s]\n",
            "100%|██████████| 220/220 [00:00<00:00, 516.82it/s]\n"
          ]
        },
        {
          "output_type": "display_data",
          "data": {
            "text/plain": [
              "<Figure size 640x480 with 1 Axes>"
            ],
            "image/png": "[encoded data removed]"
          },
          "metadata": {}
        }
      ]
    },
    {
      "cell_type": "markdown",
      "source": [
        "Based on the plot, the preferable vocab_size would likely be around 500 or 750.\n",
        "\n",
        "A vocab_size of 500 or 750 strikes a balance between capturing sufficient vocabulary to represent the language's nuances and keeping the average length of tokenized tweets manageable. This balance ensures that the tokenizer can effectively represent the diversity of words in the tweets while avoiding excessively long tokenized sequences that may increase computational overhead and memory usage.\n",
        "\n",
        "Therefore, a vocab_size of 500 or 750 is preferable as it offers a good compromise between vocabulary coverage and tokenization efficiency."
      ],
      "metadata": {
        "id": "nlD4-eVIlmqP"
      }
    },
    {
      "cell_type": "markdown",
      "metadata": {
        "id": "Zj-Xbnwhq_v4"
      },
      "source": [
        "### Task 2.3. Analysis on Dataset of Different Language (10 points)\n",
        "\n",
        "Find a small dataset of texts in a language other than English. The dataset size should be not greater than several megabytes.\n",
        "\n",
        "Train the BPE tokenizer on the dataset that you found. Try to tokenize the sentences from this dataset with the tokenizer of different `vocab_size`. Plot the dependency of the average length of the tokenized sentence by `vocab_size` to analyze how `vocab_size` affects the length of the tokenized sentence on average.\n",
        "\n",
        "Tell how the average length of the tokenized sentence differs from the average length of the tokenized tweet. Explain why."
      ]
    },
    {
      "cell_type": "code",
      "source": [
        "# Step 1: Load \"French tweets dataset\" from Kaggle\n",
        "# https://www.kaggle.com/datasets/hbaflast/french-twitter-sentiment-analysis?resource=download\n",
        "tweets_df = pd.read_csv(\"french_tweets_small.csv\")"
      ],
      "metadata": {
        "id": "dcqckgG_1c7_"
      },
      "execution_count": 311,
      "outputs": []
    },
    {
      "cell_type": "code",
      "source": [
        "import matplotlib.pyplot as plt\n",
        "import pandas as pd\n",
        "from tqdm import tqdm\n",
        "\n",
        "# Step 2: Define vocab_size values\n",
        "vocab_sizes = [100, 250, 500, 750, 1000]\n",
        "\n",
        "# Step 3-6: Train the tokenizer with different vocab_size and analyze the tokenized tweets\n",
        "avg_lengths = []\n",
        "\n",
        "for vocab_size in vocab_sizes:\n",
        "    tokenizer = BPETokenizer(vocab_size)\n",
        "    tokenizer.train(tweets_df['text'].tolist())  # Train the tokenizer on tweet texts\n",
        "\n",
        "    # Tokenize tweets and calculate average length\n",
        "    avg_length = sum(len(tokenizer.tokenize(tweet)) for tweet in tqdm(tweets_df['text'])) / len(tweets_df)\n",
        "    avg_lengths.append(avg_length)\n",
        "\n",
        "# Step 7: Plot the dependency of the average length of the tokenized tweet by vocab_size\n",
        "plt.plot(vocab_sizes, avg_lengths, marker='o')\n",
        "plt.title('Average Length of Tokenized Tweets vs Vocab Size')\n",
        "plt.xlabel('Vocab Size')\n",
        "plt.ylabel('Average Length of Tokenized Tweets')\n",
        "plt.grid(True)\n",
        "plt.show()"
      ],
      "metadata": {
        "colab": {
          "base_uri": "https://localhost:8080/",
          "height": 784
        },
        "id": "Zw3wM0Dfmq_t",
        "outputId": "e5bac677-f223-4efd-a8cd-bee36a761acf"
      },
      "execution_count": 306,
      "outputs": [
        {
          "output_type": "stream",
          "name": "stderr",
          "text": [
            "\n",
            "  0%|          | 0/200 [00:00<?, ?it/s]\u001b[A\n",
            " 32%|███▏      | 64/200 [00:00<00:00, 584.22it/s]\u001b[A\n",
            " 62%|██████▏   | 123/200 [00:00<00:00, 499.10it/s]\u001b[A\n",
            "100%|██████████| 200/200 [00:00<00:00, 497.93it/s]\n",
            "\n",
            "  0%|          | 0/200 [00:00<?, ?it/s]\u001b[A\n",
            " 38%|███▊      | 76/200 [00:00<00:00, 758.99it/s]\u001b[A\n",
            "100%|██████████| 200/200 [00:00<00:00, 791.24it/s]\n",
            "\n",
            "  0%|          | 0/200 [00:00<?, ?it/s]\u001b[A\n",
            "100%|██████████| 200/200 [00:00<00:00, 1540.11it/s]\n",
            "\n",
            "  0%|          | 0/200 [00:00<?, ?it/s]\u001b[A\n",
            "100%|██████████| 200/200 [00:00<00:00, 1300.27it/s]\n",
            "\n",
            "  0%|          | 0/200 [00:00<?, ?it/s]\u001b[A\n",
            "100%|██████████| 200/200 [00:00<00:00, 1086.83it/s]\n"
          ]
        },
        {
          "output_type": "display_data",
          "data": {
            "text/plain": [
              "<Figure size 640x480 with 1 Axes>"
            ],
            "image/png": "[encoded data removed]"
          },
          "metadata": {}
        }
      ]
    },
    {
      "cell_type": "markdown",
      "source": [
        "For a dataset with different language I chose \"French tweets dataset\" and there're two main reasons why the average length of the tokenized tweets is different:\n",
        "\n",
        "1. Language Structure: French language structures, including grammar, syntax, and word usage, differ from English. This variation can affect how sentences are constructed and, consequently, their average length.\n",
        "\n",
        "2. Vocabulary: French has a different vocabulary compared to English. It may have words with different lengths, word frequency distributions, and linguistic complexities. This diversity can influence the average length of tokenized sentences.\n",
        "\n",
        "Overall, the differences in language structure and vocabulary contribute to variations in the average length of tokenized tweets.\n",
        "And, as we can see on the plots, these differences are noticeable"
      ],
      "metadata": {
        "id": "jT5RArJXt15d"
      }
    }
  ],
  "metadata": {
    "colab": {
      "provenance": []
    },
    "kernelspec": {
      "display_name": "Python 3",
      "name": "python3"
    },
    "language_info": {
      "name": "python"
    }
  },
  "nbformat": 4,
  "nbformat_minor": 0
}